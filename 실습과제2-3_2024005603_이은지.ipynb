{
  "metadata": {
    "kernelspec": {
      "name": "python",
      "display_name": "Python (Pyodide)",
      "language": "python"
    },
    "language_info": {
      "codemirror_mode": {
        "name": "python",
        "version": 3
      },
      "file_extension": ".py",
      "mimetype": "text/x-python",
      "name": "python",
      "nbconvert_exporter": "python",
      "pygments_lexer": "ipython3",
      "version": "3.8"
    }
  },
  "nbformat_minor": 4,
  "nbformat": 4,
  "cells": [
    {
      "cell_type": "markdown",
      "source": "### 짝수의 제곱으로 새로운 리스트를 만드는 코드\n-map(), filter(), lambda 를 통해서 자연수가 있는 리스트 중 짝수의 제곱으로 새로운 리스트를 만드는 프로그램이다.",
      "metadata": {}
    },
    {
      "cell_type": "code",
      "source": "a = int(input(\"자연수 범위 입력 : \"))\nlist1 = [i for i in range(1,a+1)]",
      "metadata": {
        "trusted": true
      },
      "outputs": [],
      "execution_count": null
    },
    {
      "cell_type": "markdown",
      "source": "-사용자가 원하는 범위를 입력받고 그 범위만큼의 자연수를 가지는 리스트를 리스트 함축을 통해 생성한다.",
      "metadata": {}
    },
    {
      "cell_type": "code",
      "source": "list2 = list(filter(lambda x: x%2==0, list1))",
      "metadata": {
        "trusted": true
      },
      "outputs": [],
      "execution_count": null
    },
    {
      "cell_type": "markdown",
      "source": "### filter(함수, 리스트) \n-lambda를 이용해 짝수를 구하는 함수를 간략하게 나타낸다.\n-리스트의 요소들에 함수를 적용시키는 filter()메소드를 이용하여 짝수만 존재하는 리스트를 생성한다.\n+)map()함수와의 차이점으로는 참,거짓에 따라 해당 요소를 포함할지 결정한다는 점이다.",
      "metadata": {}
    },
    {
      "cell_type": "code",
      "source": "list3 = list(map(lambda x:x**2, list2))",
      "metadata": {
        "trusted": true
      },
      "outputs": [],
      "execution_count": null
    },
    {
      "cell_type": "markdown",
      "source": "### map(함수, 리스트)\n-리스트의 요소들에 함수를 적용시키는 map()메소드를 이용하여 제곱수들만 존재하는 리스트를 생성한다.",
      "metadata": {}
    },
    {
      "cell_type": "markdown",
      "source": "### 코드 실행\n->주피터에서는 a = int(input(\"자연수 범위 입력 : \")) 부분이 오류가 나기에 VS코드에서 실행하시길 권합니다.",
      "metadata": {}
    },
    {
      "cell_type": "code",
      "source": "a = int(input(\"자연수 범위 입력 : \"))\nlist1 = [i for i in range(1,a+1)]\nlist2 = list(filter(lambda x: x%2==0, list1))\nlist3 = list(map(lambda x:x**2, list2))\nprint(list3)",
      "metadata": {
        "trusted": true
      },
      "outputs": [],
      "execution_count": null
    },
    {
      "cell_type": "code",
      "source": "",
      "metadata": {
        "trusted": true
      },
      "outputs": [],
      "execution_count": null
    }
  ]
}