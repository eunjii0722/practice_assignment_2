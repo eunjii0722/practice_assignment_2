{
  "metadata": {
    "kernelspec": {
      "name": "python",
      "display_name": "Python (Pyodide)",
      "language": "python"
    },
    "language_info": {
      "codemirror_mode": {
        "name": "python",
        "version": 3
      },
      "file_extension": ".py",
      "mimetype": "text/x-python",
      "name": "python",
      "nbconvert_exporter": "python",
      "pygments_lexer": "ipython3",
      "version": "3.8"
    }
  },
  "nbformat_minor": 4,
  "nbformat": 4,
  "cells": [
    {
      "cell_type": "markdown",
      "source": "### 로또 시뮬레이션 코드\n-사용자가 6개의 번호를 입력하고 random모듈을 이용해 임의의 6개의 수를 가져온 뒤 사용자가 입력한 수와 random모듈에서 가져온 수 중 일치하는 개수에 따라 일치 개수와 등수를 출력하는 프로그램이다.",
      "metadata": {}
    },
    {
      "cell_type": "code",
      "source": "import random as rd",
      "metadata": {
        "trusted": true
      },
      "outputs": [],
      "execution_count": null
    },
    {
      "cell_type": "markdown",
      "source": "-임의의 정수를 추출하기 위해 random모듈을 불러온다.",
      "metadata": {}
    },
    {
      "cell_type": "code",
      "source": "numbers = []\nn=0\nwhile n < 6:\n    num = int(input(\"로또 번호 입력(6개, 0~50) :\"))\n    if (num>50 or num<0) or numbers.count(num)>=1:\n        print(\"잘못된 숫자 입력입니다. 다시 입력해주세요.\")\n    else:\n        numbers.append(num)\n        n +=1",
      "metadata": {
        "trusted": true
      },
      "outputs": [],
      "execution_count": null
    },
    {
      "cell_type": "markdown",
      "source": "### 사용자가 입력하는 6개의 숫자 리스트 만들기\n-while문을 통해 입력하는 수의 개수는 6개로 제한한다.\n-if문을 통해 입력하는 수의 범위를 정하고, 중복되는 수는 입력하지 않도록 한다.\n-조건을 만족했을 시 numbers리스트에 사용자가 입력한 수를 추가하고, n이라는 변수를 통해 수의 개수를 센다.",
      "metadata": {}
    },
    {
      "cell_type": "code",
      "source": "lotto = []\nn=0\nwhile n < 6:\n    lotto_num = rd.randint(0,50)\n    if lotto.count(lotto_num)>=1:\n        pass\n    else:\n        lotto.append(lotto_num)\n        n +=1",
      "metadata": {
        "trusted": true
      },
      "outputs": [],
      "execution_count": null
    },
    {
      "cell_type": "markdown",
      "source": "### 임의의 로또 숫자 6개 리스트 만들기\n-while문을 통해 임의의 수의 개수는 6개로 제한한다.\n-random모듈의 randint를 이용하여 임의의 수의 범위를 제한한다.\n-if문을 통해 붕복되는 수는 입력되지 않도록 한다.\n-조건을 만족했을 시 lotto리스트에 임의의 수를 추가하고, n이라는 변수를 통해 수의 개수를 센다",
      "metadata": {}
    },
    {
      "cell_type": "code",
      "source": "eq = 0\nfor i in numbers:\n    if lotto.count(i) == 1:\n        eq += 1\n    else:\n        pass\n",
      "metadata": {
        "trusted": true
      },
      "outputs": [],
      "execution_count": null
    },
    {
      "cell_type": "markdown",
      "source": "### 사용자 입력 숫자와 임의의 숫자가 일치하는 개수 구하기\n-사용자가 입력한 숫자 6개를 가지고 있는 numbers리스트에서 for문을 통해 요소를 하나씩 가져온다.\n-가져온 요소는 리소트 메소드인 count()를 이용하여 lotto리스트에 속해있는지 확인한다.\n-속해있다면 숫자가 일치한다는 뜻이므로 eq라는 변수를 통해 일치하는 개수를 센다.",
      "metadata": {}
    },
    {
      "cell_type": "code",
      "source": "if eq == 6:\n    print(f'당신이 맞힌 번호 개수 : {eq} \\n1등입니다! 축하합니다!!')\nelif eq == 5:\n    print(f'당신이 맞힌 번호 개수 : {eq} \\n2등입니다! 축하합니다!')\nelif eq == 4:\n    print(f'당신이 맞힌 번호 개수 : {eq} \\n3등입니다! 축하합니다')\nelif eq == 3:\n    print(f'당신이 맞힌 번호 개수 : {eq} \\n4등입니다! 축하합니다')\nelif eq == 2:\n    print(f'당신이 맞힌 번호 개수 : {eq} \\n5등입니다! 축하합니다')\nelif eq == 1:\n    print(f'당신이 맞힌 번호 개수 : {eq} \\n6등입니다')\nelse:\n    print(f'당신이 맞힌 번호 개수 : {eq} \\n아무것도 맞히지 못하셨습니다.')",
      "metadata": {
        "trusted": true
      },
      "outputs": [],
      "execution_count": null
    },
    {
      "cell_type": "markdown",
      "source": "### 결과 출력하기\n-if문을 이용해 일치하는 개수에 따라 사용자가 맞힌 개수와 등수를 출력한다.",
      "metadata": {
        "jp-MarkdownHeadingCollapsed": true
      }
    },
    {
      "cell_type": "markdown",
      "source": "### 코드 실행\n->주피터에서는 num = int(input(\"로또 번호 입력(6개, 0~50) :\")) 부분이 오류가 나기에 VS코드에서 실행하시길 권합니다.",
      "metadata": {}
    },
    {
      "cell_type": "code",
      "source": "import random as rd\n\nnumbers = []\nn=0\nwhile n < 6:\n    num = int(input(\"로또 번호 입력(6개, 0~50) :\"))\n    if (num>50 or num<0) or numbers.count(num)>=1:\n        print(\"잘못된 숫자 입력입니다. 다시 입력해주세요.\")\n    else:\n        numbers.append(num)\n        n +=1\n\nlotto = []\nn=0\nwhile n < 6:\n    lotto_num = rd.randint(0,50)\n    if lotto.count(lotto_num)>=1:\n        pass\n    else:\n        lotto.append(lotto_num)\n        n +=1\n\neq = 0\nfor i in numbers:\n    if lotto.count(i) == 1:\n        eq += 1\n    else:\n        pass\n\nif eq == 6:\n    print(f'당신이 맞춘 번호 개수 : {eq} \\n1등입니다! 축하합니다!!')\nelif eq == 5:\n    print(f'당신이 맞춘 번호 개수 : {eq} \\n2등입니다! 축하합니다!')\nelif eq == 4:\n    print(f'당신이 맞춘 번호 개수 : {eq} \\n3등입니다! 축하합니다')\nelif eq == 3:\n    print(f'당신이 맞춘 번호 개수 : {eq} \\n4등입니다! 축하합니다')\nelif eq == 2:\n    print(f'당신이 맞춘 번호 개수 : {eq} \\n5등입니다! 축하합니다')\nelif eq == 1:\n    print(f'당신이 맞춘 번호 개수 : {eq} \\n6등입니다')\nelse:\n    print(f'당신이 맞춘 번호 개수 : {eq} \\n아무것도 맞히지 못하셨습니다.')\nprint(numbers)\nprint(lotto)",
      "metadata": {
        "trusted": true
      },
      "outputs": [],
      "execution_count": null
    }
  ]
}