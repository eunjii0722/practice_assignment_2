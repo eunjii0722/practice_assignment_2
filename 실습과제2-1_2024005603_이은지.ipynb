{
  "metadata": {
    "kernelspec": {
      "name": "python",
      "display_name": "Python (Pyodide)",
      "language": "python"
    },
    "language_info": {
      "codemirror_mode": {
        "name": "python",
        "version": 3
      },
      "file_extension": ".py",
      "mimetype": "text/x-python",
      "name": "python",
      "nbconvert_exporter": "python",
      "pygments_lexer": "ipython3",
      "version": "3.8"
    }
  },
  "nbformat_minor": 4,
  "nbformat": 4,
  "cells": [
    {
      "cell_type": "markdown",
      "source": "### <1>Person 클래스 구현하기\n-Person클래스에서 name, mobile, office, email이라는 인스턴스 변수와 여러 메소드들을 통해 Person클래스를 구현하고, 실행한다.",
      "metadata": {}
    },
    {
      "cell_type": "code",
      "source": "class Person:\n    def __init__(self, name, mobile='010-0000-0000', office='041-000-0000', email='abcd@knu.ac.kr'):\n      self.__name = name\n      self.__mobile = mobile\n      self.__office = office\n      self.__email = email",
      "metadata": {
        "trusted": true
      },
      "outputs": [],
      "execution_count": null
    },
    {
      "cell_type": "markdown",
      "source": "### Person클래스 생성\n-__init__ 생성 메소드를 사용하여 사용자가 입력한 값을 변수에 적용시킨다.",
      "metadata": {}
    },
    {
      "cell_type": "code",
      "source": "def __str__(self):\n    return f'name : {self.__name}\\nmobile : {self.__mobile}\\noffice : {self.__office}\\nemail : {self.__email}'",
      "metadata": {
        "trusted": true
      },
      "outputs": [],
      "execution_count": null
    },
    {
      "cell_type": "markdown",
      "source": "### __str()__ 메소드 생성\n-사용자가 입력한 값을 문자열로 반환시키는 메소드를 생성한다.",
      "metadata": {}
    },
    {
      "cell_type": "code",
      "source": "def setName(self, name):\n      self.__name = name\ndef setMobile(self, mobile):\n    self.__mobile = mobile\ndef setOffice(self, office):\n    self.__office = office\ndef setEmail(self, email):\n    self.__email = email",
      "metadata": {
        "trusted": true
      },
      "outputs": [],
      "execution_count": null
    },
    {
      "cell_type": "markdown",
      "source": "### set~() 메소드 생성\n-사용자가 설정한 변수의 값을 변경할 수 있는 메소드를 생성한다.",
      "metadata": {}
    },
    {
      "cell_type": "code",
      "source": "def getName(self):\n return self.__name\ndef getMobile(self):\n    return self.__mobile\ndef getOffice(self):\n    return self.__office\ndef getEmail(self):\n    return self.__email",
      "metadata": {
        "trusted": true
      },
      "outputs": [],
      "execution_count": null
    },
    {
      "cell_type": "markdown",
      "source": "### get~() 메소드 생성\n-사용자가 변경한 변수의 값을 리턴시키는 메소드를 생성한다.",
      "metadata": {}
    },
    {
      "cell_type": "markdown",
      "source": "### 코드 실행",
      "metadata": {}
    },
    {
      "cell_type": "code",
      "source": "class Person:\n    def __init__(self, name, mobile='010-0000-0000', office='041-000-0000', email='abcd@knu.ac.kr'):\n      self.__name = name\n      self.__mobile = mobile\n      self.__office = office\n      self.__email = email\n    def __str__(self):\n      return f'name : {self.__name}\\nmobile : {self.__mobile}\\noffice : {self.__office}\\nemail : {self.__email}'\n\n    def setName(self, name):\n      self.__name = name\n    def setMobile(self, mobile):\n      self.__mobile = mobile\n    def setOffice(self, office):\n      self.__office = office\n    def setEmail(self, email):\n      self.__email = email\n\n    def getName(self):\n      return self.__name\n    def getMobile(self):\n      return self.__mobile\n    def getOffice(self):\n      return self.__office\n    def getEmail(self):\n      return self.__email\n\nperson = Person(\"이은지\", '010-7725-2157', '041-858-2157', 'dldmswl2015@knu.ac.kr')\nprint(person.__str__())\n\nperson.setName('아무개')\nprint(person.getName())\n\nperson.setMobile('010-1234-1234')\nprint(person.getMobile())",
      "metadata": {
        "trusted": true
      },
      "outputs": [
        {
          "name": "stdout",
          "text": "name : 이은지\nmobile : 010-7725-2157\noffice : 041-858-2157\nemail : dldmswl2015@knu.ac.kr\n아무개\n010-1234-1234\n",
          "output_type": "stream"
        }
      ],
      "execution_count": 1
    }
  ]
}